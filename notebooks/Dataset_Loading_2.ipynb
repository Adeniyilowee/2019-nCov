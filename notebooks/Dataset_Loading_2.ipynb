{
 "cells": [
  {
   "cell_type": "code",
   "execution_count": 3,
   "metadata": {},
   "outputs": [],
   "source": [
    "import rdkit\n",
    "from rdkit.Chem import AllChem as Chem\n",
    "from rdkit.DataStructs import cDataStructs\n",
    "import numpy as np\n",
    "import pandas as pd\n",
    "from rdkit.Chem.Draw import IPythonConsole\n",
    "import matplotlib.pyplot as plt\n",
    "import os\n",
    "import time\n",
    "import pickle"
   ]
  },
  {
   "cell_type": "markdown",
   "metadata": {},
   "source": [
    "# Loading the various Protease Assays I found"
   ]
  },
  {
   "cell_type": "code",
   "execution_count": 4,
   "metadata": {},
   "outputs": [],
   "source": [
    "ayy = np.array([1,23,3,3,2,1.555])"
   ]
  },
  {
   "cell_type": "code",
   "execution_count": 19,
   "metadata": {},
   "outputs": [],
   "source": [
    "pickle.dump(ayy, open( \"../notebooks/lmao.pkl\", \"wb\" ))"
   ]
  },
  {
   "cell_type": "code",
   "execution_count": 20,
   "metadata": {},
   "outputs": [],
   "source": [
    "oy = pickle.load(open( \"../notebooks/lmao.pkl\", \"rb\" ))"
   ]
  },
  {
   "cell_type": "code",
   "execution_count": 21,
   "metadata": {},
   "outputs": [
    {
     "data": {
      "text/plain": [
       "numpy.ndarray"
      ]
     },
     "execution_count": 21,
     "metadata": {},
     "output_type": "execute_result"
    }
   ],
   "source": [
    "type(oy)"
   ]
  },
  {
   "cell_type": "markdown",
   "metadata": {},
   "source": [
    "## West Nile NS2bNS3 Proteinase"
   ]
  },
  {
   "cell_type": "code",
   "execution_count": 8,
   "metadata": {},
   "outputs": [],
   "source": [
    "AID = 653\n",
    "#os.system('curl https://pubchem.ncbi.nlm.nih.gov/rest/pug/assay/aid/%s/csv -o data.csv' %AID)\n",
    "os.system(f'wget https://pubchem.ncbi.nlm.nih.gov/rest/pug/assay/aid/{AID}/csv -O Assay{AID}.csv')\n",
    "wnv_data = pd.read_csv(f'Assay{AID}.csv')"
   ]
  },
  {
   "cell_type": "code",
   "execution_count": 9,
   "metadata": {},
   "outputs": [],
   "source": [
    "cids = list(wnv_data[['PUBCHEM_CID']].values[3:].astype(\"int32\").squeeze())"
   ]
  },
  {
   "cell_type": "code",
   "execution_count": 10,
   "metadata": {},
   "outputs": [],
   "source": [
    "mols = []\n",
    "for CID in cids:\n",
    "    #os.system('curl https://pubchem.ncbi.nlm.nih.gov/rest/pug/compound/cid/%s/sdf -o cmp.sdf' %CID)\n",
    "    os.system('wget https://pubchem.ncbi.nlm.nih.gov/rest/pug/compound/cid/%s/sdf -O cmp.sdf' %CID)\n",
    "    time.sleep(.01)\n",
    "    mols.append(Chem.SDMolSupplier(\"cmp.sdf\")[0])"
   ]
  },
  {
   "cell_type": "code",
   "execution_count": 11,
   "metadata": {},
   "outputs": [],
   "source": [
    "mols.insert(0,None)\n",
    "mols.insert(0,None)\n",
    "mols.insert(0,None)"
   ]
  },
  {
   "cell_type": "code",
   "execution_count": 12,
   "metadata": {},
   "outputs": [],
   "source": [
    "wnv_data.insert(3, \"Mol Object\", mols)"
   ]
  },
  {
   "cell_type": "code",
   "execution_count": 22,
   "metadata": {},
   "outputs": [],
   "source": [
    "pickle.dump(wnv_data, open(f\"/u/macdougt/Research/2019-nCov/Data/wnv/Assay{AID}.pkl\", \"wb\"))"
   ]
  },
  {
   "cell_type": "markdown",
   "metadata": {},
   "source": [
    "## SARS C3 Protease Assays"
   ]
  },
  {
   "cell_type": "code",
   "execution_count": 25,
   "metadata": {},
   "outputs": [],
   "source": [
    "data = pd.read_csv('../DatasetAIDs/SARS_C3_Assays_AID_only.txt')\n",
    "AIDs = list(data.values.squeeze())\n",
    "assays = []\n",
    "for i, AID in zip(range(len(AIDs)), AIDs):\n",
    "    os.system(f'wget https://pubchem.ncbi.nlm.nih.gov/rest/pug/assay/aid/{AID}/csv -O data{i}.csv')\n",
    "    if os.stat(f'data{i}.csv').st_size != 0:\n",
    "        assays.append(pd.read_csv(f'data{i}.csv'))"
   ]
  },
  {
   "cell_type": "code",
   "execution_count": null,
   "metadata": {},
   "outputs": [],
   "source": []
  },
  {
   "cell_type": "code",
   "execution_count": null,
   "metadata": {},
   "outputs": [],
   "source": []
  },
  {
   "cell_type": "code",
   "execution_count": null,
   "metadata": {},
   "outputs": [],
   "source": []
  },
  {
   "cell_type": "code",
   "execution_count": null,
   "metadata": {},
   "outputs": [],
   "source": []
  },
  {
   "cell_type": "markdown",
   "metadata": {},
   "source": [
    "## MERS Protease Assays"
   ]
  },
  {
   "cell_type": "code",
   "execution_count": null,
   "metadata": {},
   "outputs": [],
   "source": [
    "data = pd.read_csv('../DatasetAIDs/MERS_Protease_Assays_AID_only.txt')\n",
    "AIDs = list(data.values.squeeze())\n",
    "assays = []\n",
    "for i, AID in zip(range(len(AIDs)), AIDs):\n",
    "    os.system(f'wget https://pubchem.ncbi.nlm.nih.gov/rest/pug/assay/aid/{AID}/csv -O data{i}.csv')\n",
    "    if os.stat(f'data{i}.csv').st_size != 0:\n",
    "        assays.append(pd.read_csv(f'data{i}.csv'))"
   ]
  },
  {
   "cell_type": "code",
   "execution_count": null,
   "metadata": {},
   "outputs": [],
   "source": []
  },
  {
   "cell_type": "code",
   "execution_count": null,
   "metadata": {},
   "outputs": [],
   "source": []
  },
  {
   "cell_type": "code",
   "execution_count": null,
   "metadata": {},
   "outputs": [],
   "source": []
  },
  {
   "cell_type": "code",
   "execution_count": null,
   "metadata": {},
   "outputs": [],
   "source": []
  },
  {
   "cell_type": "markdown",
   "metadata": {},
   "source": [
    "## NS3 Protease Assay"
   ]
  },
  {
   "cell_type": "code",
   "execution_count": null,
   "metadata": {},
   "outputs": [],
   "source": [
    "data = pd.read_csv('../DatasetAIDs/NS3_Protease_Assays_AID_only.txt')\n",
    "AIDs = list(data.values.squeeze())\n",
    "assays = []\n",
    "for i, AID in zip(range(len(AIDs)), AIDs):\n",
    "    os.system(f'wget https://pubchem.ncbi.nlm.nih.gov/rest/pug/assay/aid/{AID}/csv -O data{i}.csv')\n",
    "    if os.stat(f'data{i}.csv').st_size != 0:\n",
    "        assays.append(pd.read_csv(f'data{i}.csv'))"
   ]
  },
  {
   "cell_type": "code",
   "execution_count": null,
   "metadata": {},
   "outputs": [],
   "source": []
  },
  {
   "cell_type": "code",
   "execution_count": null,
   "metadata": {},
   "outputs": [],
   "source": []
  },
  {
   "cell_type": "code",
   "execution_count": null,
   "metadata": {},
   "outputs": [],
   "source": []
  },
  {
   "cell_type": "markdown",
   "metadata": {},
   "source": [
    "## HIV Protease Assay"
   ]
  },
  {
   "cell_type": "code",
   "execution_count": null,
   "metadata": {},
   "outputs": [],
   "source": [
    "data = pd.read_csv('../DatasetAIDs/HIV_Protease_Assays_AID_only.txt')\n",
    "AIDs = list(data.values.squeeze())\n",
    "assays = []\n",
    "for i, AID in zip(range(len(AIDs)), AIDs):\n",
    "    os.system(f'wget https://pubchem.ncbi.nlm.nih.gov/rest/pug/assay/aid/{AID}/csv -O data{i}.csv')\n",
    "    if os.stat(f'data{i}.csv').st_size != 0:\n",
    "        assays.append(pd.read_csv(f'data{i}.csv'))"
   ]
  },
  {
   "cell_type": "code",
   "execution_count": null,
   "metadata": {},
   "outputs": [],
   "source": []
  },
  {
   "cell_type": "code",
   "execution_count": null,
   "metadata": {},
   "outputs": [],
   "source": []
  },
  {
   "cell_type": "code",
   "execution_count": null,
   "metadata": {},
   "outputs": [],
   "source": []
  }
 ],
 "metadata": {
  "kernelspec": {
   "display_name": "rdkit-pytorch",
   "language": "python",
   "name": "rdkit-pytorch-env"
  },
  "language_info": {
   "codemirror_mode": {
    "name": "ipython",
    "version": 3
   },
   "file_extension": ".py",
   "mimetype": "text/x-python",
   "name": "python",
   "nbconvert_exporter": "python",
   "pygments_lexer": "ipython3",
   "version": "3.7.3"
  }
 },
 "nbformat": 4,
 "nbformat_minor": 2
}
